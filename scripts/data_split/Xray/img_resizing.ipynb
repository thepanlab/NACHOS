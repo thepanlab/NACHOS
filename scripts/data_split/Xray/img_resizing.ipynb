{
 "cells": [
  {
   "cell_type": "markdown",
   "metadata": {},
   "source": [
    "This notebook was made using code from Avery Bates to reformat images from padchest and mimic for use in the medical imaging pipeline. This is left more for example then for use. "
   ]
  },
  {
   "cell_type": "code",
   "execution_count": null,
   "metadata": {},
   "outputs": [],
   "source": [
    "import os,sys\n",
    "sys.path.insert(0,\"..\")\n",
    "from glob import glob\n",
    "import matplotlib.pyplot as plt\n",
    "import shutil\n",
    "import numpy as np\n",
    "import pandas as pd\n",
    "import pathlib\n",
    "import torch\n",
    "import torchvision\n",
    "import torchxrayvision as xrv\n",
    "import ast\n",
    "import math\n",
    "import re\n",
    "import skimage\n",
    "from PIL import Image\n",
    "from torchvision.transforms.functional import to_pil_image\n",
    "\n",
    "from concurrent.futures import ThreadPoolExecutor\n",
    "import os\n",
    "import skimage.io\n",
    "import skimage.color"
   ]
  },
  {
   "cell_type": "code",
   "execution_count": null,
   "metadata": {},
   "outputs": [],
   "source": [
    "#Avery's code\n",
    "def convert_size(size_bytes):\n",
    "    if size_bytes == 0:\n",
    "        return \"0B\"\n",
    "    size_name = (\"B\", \"KB\", \"MB\", \"GB\", \"TB\", \"PB\", \"EB\", \"ZB\", \"YB\")\n",
    "    i = int(math.floor(math.log(size_bytes, 1024)))\n",
    "    p = math.pow(1024, i)\n",
    "    s = round(size_bytes / p, 2)\n",
    "    return f\"{s} {size_name[i]}\"\n",
    "\n",
    "def get_dir_size(start_path = '.'):\n",
    "    total_size = 0\n",
    "    total_files = 0\n",
    "    for dirpath, dirnames, filenames in os.walk(start_path):\n",
    "        for f in filenames:\n",
    "            fp = os.path.join(dirpath, f)\n",
    "            total_files += 1\n",
    "            if not os.path.islink(fp):\n",
    "                total_size += os.path.getsize(fp)\n",
    "    return convert_size(total_size), total_files"
   ]
  },
  {
   "cell_type": "code",
   "execution_count": null,
   "metadata": {},
   "outputs": [],
   "source": [
    "print(get_dir_size(\"/ssd/jpmokc/analysis/Notebooks/test_imgs_pad\"))\n",
    "print(get_dir_size(\"/ssd/jpmokc/analysis/Notebooks/test_imgs_pad/PNG\"))\n",
    "print(get_dir_size(\"/ssd/jpmokc/analysis/Notebooks/test_imgs_pad/JPEG\"))\n",
    "print(get_dir_size(\"/ssd/jpmokc/analysis/Notebooks/test_imgs_mim\"))\n",
    "print(get_dir_size(\"/ssd/jpmokc/analysis/Notebooks/test_imgs_mim/PNG\"))\n",
    "print(get_dir_size(\"/ssd/jpmokc/analysis/Notebooks/test_imgs_mim/JPEG\"))"
   ]
  },
  {
   "cell_type": "code",
   "execution_count": null,
   "metadata": {},
   "outputs": [],
   "source": [
    "#Avery's code\n",
    "def print_image_shapes(folder_path):\n",
    "    for dirpath, _, filenames in os.walk(folder_path):\n",
    "        for filename in filenames:\n",
    "            if filename.endswith('.jpg') or filename.endswith('.png'):\n",
    "                image_path = os.path.join(dirpath, filename)\n",
    "                img = skimage.io.imread(image_path)\n",
    "                print(f\"Image {filename} shape: {img.shape}\")\n",
    "                \n",
    "def process_image(source_file_path, image_folder, file_format):\n",
    "    transform = torchvision.transforms.Compose([xrv.datasets.XRayCenterCrop(), xrv.datasets.XRayResizer(224)])\n",
    "    dest_dir_path = os.path.join(image_folder, file_format.upper())\n",
    "    os.makedirs(dest_dir_path, exist_ok=True)\n",
    "    base_filename, _ = os.path.splitext(os.path.basename(source_file_path))\n",
    "    dest_file_path = os.path.join(dest_dir_path, f\"{base_filename}.{file_format.lower()}\")\n",
    "\n",
    "    img = skimage.io.imread(source_file_path)\n",
    "    img = img / img.max()\n",
    "\n",
    "    if len(img.shape) == 3:\n",
    "        if img.shape[2] == 4:\n",
    "            img = skimage.color.rgba2rgb(img)\n",
    "        img = skimage.color.rgb2gray(img)\n",
    "    elif len(img.shape) < 2:\n",
    "        print(\"error, dimension lower than 2 for image\")\n",
    "\n",
    "    img = img[None, :, :]\n",
    "\n",
    "    if transform is not None:\n",
    "        img = transform(img)\n",
    "\n",
    "    img = torch.from_numpy(img)\n",
    "\n",
    "    pil_transform = torchvision.transforms.ToPILImage(mode='L')\n",
    "    img = pil_transform(img)\n",
    "    # Save the transformed image as PNG\n",
    "    img.save(dest_file_path, format='PNG')\n",
    "\n",
    "def process_images_in_folder(image_folder):\n",
    "    original_size, original_files = get_dir_size(image_folder)\n",
    "    print(f\"Original size of folder {image_folder}: {original_size}\")\n",
    "\n",
    "    image_paths = [os.path.join(image_folder, filename) for filename in os.listdir(image_folder) if filename.endswith('.jpg') or filename.endswith('.png')]\n",
    "\n",
    "    for file_format in ['PNG']:\n",
    "        with ThreadPoolExecutor() as executor:\n",
    "            list(executor.map(process_image, image_paths, [image_folder]*len(image_paths), [file_format]*len(image_paths)))\n",
    "\n",
    "    png_size, png_files = get_dir_size(os.path.join(image_folder, 'PNG'))\n",
    "    print(f\" New PNG folder size: {png_size}\")\n",
    "    # print_image_shapes(os.path.join(image_folder, 'JPG'))\n",
    "    # print_image_shapes(os.path.join(image_folder, 'PNG'))\n"
   ]
  },
  {
   "cell_type": "code",
   "execution_count": null,
   "metadata": {},
   "outputs": [],
   "source": [
    "mimic_path = \"/ssd/averijordan/datasets/physionet.org/files/mimic-cxr-jpg/2.0.0/files\"\n",
    "mimic_reduced_path = \"/ssd/averijordan/datasets/training/data/MIMIC\"\n",
    "\n",
    "pad_path= \"/ssd/averijordan/datasets/PADCHEST_SJ/image_zips\"\n",
    "pad_reduced_path = \"/ssd/averijordan/datasets/training/data/PadChest\"\n",
    "\n",
    "print(get_dir_size(mimic_path))\n",
    "print(get_dir_size(mimic_reduced_path))\n",
    "print(get_dir_size(pad_path))\n",
    "print(get_dir_size(pad_reduced_path))"
   ]
  },
  {
   "cell_type": "code",
   "execution_count": null,
   "metadata": {},
   "outputs": [],
   "source": [
    "directories = [\n",
    "    \"/ssd2/averijordan/datasets/PadChest/No-Finding/PA\"\n",
    "    \"/ssd2/averijordan/datasets/Cardiomegaly/No-Finding/PA\"\n",
    "\n",
    "]\n",
    "\n",
    "# Process each directory\n",
    "for directory in directories:\n",
    "    process_images_in_folder(directory)"
   ]
  },
  {
   "cell_type": "code",
   "execution_count": null,
   "metadata": {},
   "outputs": [],
   "source": [
    "\n",
    "# process_images_in_folder(mimic_dir_eff_pa)\n",
    "# process_images_in_folder(mimic_dir_eff_ap)\n",
    "# process_images_in_folder(mimic_dir_norm_pa)\n",
    "# process_images_in_folder(mimic_dir_norm_ap)\n",
    "# process_images_in_folder(mimic_dir_pnu_pa)\n",
    "# process_images_in_folder(mimic_dir_pnu_ap)\n",
    "# process_images_in_folder(pad_dir_eff_pa)\n",
    "# process_images_in_folder(pad_dir_eff_ap)\n",
    "# process_images_in_folder(pad_dir_norm_pa)\n",
    "# process_images_in_folder(pad_dir_norm_ap)\n",
    "# process_images_in_folder(pad_dir_pnu_pa)\n",
    "# process_images_in_folder(pad_dir_pnu_ap)\n"
   ]
  },
  {
   "cell_type": "code",
   "execution_count": null,
   "metadata": {},
   "outputs": [],
   "source": [
    "process_images_in_folder(\"/ssd2/pipeline/data/PadChest/no-finding/PA/\")"
   ]
  },
  {
   "cell_type": "code",
   "execution_count": null,
   "metadata": {},
   "outputs": [],
   "source": [
    "print_image_shapes(\"/ssd2/pipeline/data/PadChest/no-finding/PA/\")"
   ]
  }
 ],
 "metadata": {
  "kernelspec": {
   "display_name": "Python 3",
   "language": "python",
   "name": "python3"
  },
  "language_info": {
   "codemirror_mode": {
    "name": "ipython",
    "version": 3
   },
   "file_extension": ".py",
   "mimetype": "text/x-python",
   "name": "python",
   "nbconvert_exporter": "python",
   "pygments_lexer": "ipython3",
   "version": "3.9.16"
  },
  "orig_nbformat": 4
 },
 "nbformat": 4,
 "nbformat_minor": 2
}

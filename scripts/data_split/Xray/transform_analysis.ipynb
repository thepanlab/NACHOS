{
 "cells": [
  {
   "cell_type": "code",
   "execution_count": 1,
   "metadata": {},
   "outputs": [],
   "source": [
    "%load_ext autoreload\n",
    "%autoreload 2"
   ]
  },
  {
   "cell_type": "code",
   "execution_count": 2,
   "metadata": {},
   "outputs": [],
   "source": [
    "import os\n",
    "from pathlib import Path\n",
    "import os,sys\n",
    "import math\n",
    "sys.path.insert(0,\"..\")\n",
    "from glob import glob\n",
    "import matplotlib as plt\n",
    "import shutil\n",
    "import numpy as np\n",
    "import pandas as pd\n",
    "import pathlib\n",
    "import torch\n",
    "import torchvision\n",
    "import torchxrayvision as xrv\n",
    "import skimage\n",
    "from torchvision.transforms.functional import to_pil_image"
   ]
  },
  {
   "cell_type": "code",
   "execution_count": 3,
   "metadata": {},
   "outputs": [],
   "source": [
    "def convert_size(size_bytes):\n",
    "    if size_bytes == 0:\n",
    "        return \"0B\"\n",
    "    size_name = (\"B\", \"KB\", \"MB\", \"GB\", \"TB\", \"PB\", \"EB\", \"ZB\", \"YB\")\n",
    "    i = int(math.floor(math.log(size_bytes, 1024)))\n",
    "    p = math.pow(1024, i)\n",
    "    s = round(size_bytes / p, 2)\n",
    "    return f\"{s} {size_name[i]}\"\n",
    "\n",
    "def get_dir_size(start_path = '.'):\n",
    "    total_size = 0\n",
    "    total_files = 0\n",
    "    for dirpath, dirnames, filenames in os.walk(start_path):\n",
    "        for f in filenames:\n",
    "            fp = os.path.join(dirpath, f)\n",
    "            total_files += 1\n",
    "            if not os.path.islink(fp):\n",
    "                total_size += os.path.getsize(fp)\n",
    "    return convert_size(total_size), total_files\n"
   ]
  },
  {
   "cell_type": "code",
   "execution_count": 4,
   "metadata": {},
   "outputs": [
    {
     "name": "stdout",
     "output_type": "stream",
     "text": [
      "('1.39 GB', 28569)\n",
      "('218.84 MB', 28569)\n",
      "('8.84 GB', 23197)\n",
      "('486.01 MB', 23197)\n"
     ]
    }
   ],
   "source": [
    "print(get_dir_size(\"/ssd/averijordan/datasets/CheXpert-v1.0-small/CheXpert\"))\n",
    "print(get_dir_size(\"/ssd/averijordan/datasets/CheXpert-v1.0-small/CheXpert_Reduced\"))\n",
    "print(get_dir_size(\"/ssd/averijordan/datasets/ChestXray-NIHCC/NIH\"))\n",
    "print(get_dir_size(\"/ssd/averijordan/datasets/ChestXray-NIHCC/NIH_Reduced\"))\n"
   ]
  },
  {
   "cell_type": "code",
   "execution_count": 5,
   "metadata": {},
   "outputs": [
    {
     "name": "stdout",
     "output_type": "stream",
     "text": [
      "1.5G\t/ssd/averijordan/datasets/CheXpert-v1.0-small/CheXpert\n",
      "277M\t/ssd/averijordan/datasets/CheXpert-v1.0-small/CheXpert_Reduced\n",
      "8.9G\t/ssd/averijordan/datasets/ChestXray-NIHCC/NIH\n",
      "534M\t/ssd/averijordan/datasets/ChestXray-NIHCC/NIH_Reduced\n"
     ]
    }
   ],
   "source": [
    "%%bash\n",
    "du -sh /ssd/averijordan/datasets/CheXpert-v1.0-small/CheXpert\n",
    "du -sh /ssd/averijordan/datasets/CheXpert-v1.0-small/CheXpert_Reduced\n",
    "du -sh /ssd/averijordan/datasets/ChestXray-NIHCC/NIH\n",
    "du -sh /ssd/averijordan/datasets/ChestXray-NIHCC/NIH_Reduced"
   ]
  },
  {
   "cell_type": "code",
   "execution_count": 6,
   "metadata": {},
   "outputs": [],
   "source": [
    "transform = torchvision.transforms.Compose([xrv.datasets.XRayCenterCrop(), xrv.datasets.XRayResizer(224)])"
   ]
  },
  {
   "cell_type": "markdown",
   "metadata": {},
   "source": []
  },
  {
   "cell_type": "code",
   "execution_count": 7,
   "metadata": {},
   "outputs": [],
   "source": [
    "from concurrent.futures import ThreadPoolExecutor\n",
    "import skimage.io\n",
    "import skimage.color\n",
    "\n",
    "def print_image_shapes(folder_path):\n",
    "    for dirpath, _, filenames in os.walk(folder_path):\n",
    "        for filename in filenames:\n",
    "            if filename.endswith('.jpg') or filename.endswith('.png'):\n",
    "                image_path = os.path.join(dirpath, filename)\n",
    "                img = skimage.io.imread(image_path)\n",
    "                print(f\"Image {filename} shape: {img.shape}\")\n",
    "\n",
    "def process_image(source_file_path, image_folder, file_format):\n",
    "    dest_dir_path = os.path.join(image_folder, file_format.upper())\n",
    "    os.makedirs(dest_dir_path, exist_ok=True)\n",
    "    base_filename, _ = os.path.splitext(os.path.basename(source_file_path))\n",
    "    dest_file_path = os.path.join(dest_dir_path, f\"{base_filename}.{file_format.lower()}\")\n",
    "\n",
    "    img = skimage.io.imread(source_file_path)\n",
    "    img = img / img.max()\n",
    "\n",
    "    if len(img.shape) == 3:\n",
    "        if img.shape[2] == 4:\n",
    "            img = skimage.color.rgba2rgb(img)\n",
    "        img = skimage.color.rgb2gray(img)\n",
    "    elif len(img.shape) < 2:\n",
    "        print(\"error, dimension lower than 2 for image\")\n",
    "\n",
    "    img = img[None, :, :]\n",
    "\n",
    "    if transform is not None:\n",
    "        img = transform(img)\n",
    "\n",
    "    img = torch.from_numpy(img)\n",
    "\n",
    "    pil_transform = torchvision.transforms.ToPILImage(mode='L')\n",
    "    img = pil_transform(img)\n",
    "\n",
    "    save_format = file_format if file_format != 'JPG' else 'JPEG'  # Use 'JPEG' for PIL saving\n",
    "    img.save(dest_file_path, format=save_format)\n",
    "\n",
    "def process_images_in_folder(image_folder):\n",
    "    original_size, original_files = get_dir_size(image_folder)\n",
    "    print(f\"Original size of folder {image_folder}: {original_size}\")\n",
    "\n",
    "    image_paths = [os.path.join(image_folder, filename) for filename in os.listdir(image_folder) if filename.endswith('.jpg') or filename.endswith('.png')]\n",
    "\n",
    "    for file_format in ['JPG', 'PNG']:\n",
    "        with ThreadPoolExecutor() as executor:\n",
    "            list(executor.map(process_image, image_paths, [image_folder]*len(image_paths), [file_format]*len(image_paths)))\n",
    "\n",
    "    jpg_size, jpg_files = get_dir_size(os.path.join(image_folder, 'JPG'))\n",
    "    png_size, png_files = get_dir_size(os.path.join(image_folder, 'PNG'))\n",
    "    print(f\"New JPG folder size: {jpg_size}, New PNG folder size: {png_size}\")\n",
    "    print_image_shapes(os.path.join(image_folder, 'JPG'))\n",
    "    print_image_shapes(os.path.join(image_folder, 'PNG'))\n"
   ]
  },
  {
   "cell_type": "code",
   "execution_count": 8,
   "metadata": {},
   "outputs": [
    {
     "name": "stdout",
     "output_type": "stream",
     "text": [
      "Original size of folder /ssd/averijordan/datasets/test_pictures/CheXpert: 263.21 KB\n",
      "New JPG folder size: 39.67 KB, New PNG folder size: 155.49 KB\n",
      "Image 4_CheXpert_cardiomegaly_AP_00271.jpg shape: (224, 224)\n",
      "Image 1_CheXpert_cardiomegaly_AP_00007.jpg shape: (224, 224)\n",
      "Image 3_CheXpert_cardiomegaly_AP_00200.jpg shape: (224, 224)\n",
      "Image 5_CheXpert_cardiomegaly_AP_00279.jpg shape: (224, 224)\n",
      "Image 2_CheXpert_cardiomegaly_AP_00153.jpg shape: (224, 224)\n",
      "Image 1_CheXpert_cardiomegaly_AP_00007.png shape: (224, 224)\n",
      "Image 2_CheXpert_cardiomegaly_AP_00153.png shape: (224, 224)\n",
      "Image 3_CheXpert_cardiomegaly_AP_00200.png shape: (224, 224)\n",
      "Image 5_CheXpert_cardiomegaly_AP_00279.png shape: (224, 224)\n",
      "Image 4_CheXpert_cardiomegaly_AP_00271.png shape: (224, 224)\n",
      "Original size of folder /ssd/averijordan/datasets/test_pictures/NIH: 1.81 MB\n",
      "New JPG folder size: 26.1 KB, New PNG folder size: 103.0 KB\n",
      "Image 5_NIH_cardiomegaly_AP_00003990_000.jpg shape: (224, 224)\n",
      "Image 3_NIH_cardiomegaly_AP_00000740_000.jpg shape: (224, 224)\n",
      "Image 4_NIH_cardiomegaly_AP_00002435_006.jpg shape: (224, 224)\n",
      "Image 1_NIH_cardiomegaly_AP_00000032_000.jpg shape: (224, 224)\n",
      "Image 2_NIH_cardiomegaly_AP_00000156_000.jpg shape: (224, 224)\n",
      "Image 5_NIH_cardiomegaly_AP_00003990_000.png shape: (224, 224)\n",
      "Image 1_NIH_cardiomegaly_AP_00000032_000.png shape: (224, 224)\n",
      "Image 2_NIH_cardiomegaly_AP_00000156_000.png shape: (224, 224)\n",
      "Image 4_NIH_cardiomegaly_AP_00002435_006.png shape: (224, 224)\n",
      "Image 3_NIH_cardiomegaly_AP_00000740_000.png shape: (224, 224)\n"
     ]
    }
   ],
   "source": [
    "chexpert_test_image_path = '/ssd/averijordan/datasets/test_pictures/CheXpert'\n",
    "nih_test_image_path = '/ssd/averijordan/datasets/test_pictures/NIH'\n",
    "\n",
    "process_images_in_folder(chexpert_test_image_path)\n",
    "process_images_in_folder(nih_test_image_path)"
   ]
  }
 ],
 "metadata": {
  "kernelspec": {
   "display_name": "xray",
   "language": "python",
   "name": "python3"
  },
  "language_info": {
   "codemirror_mode": {
    "name": "ipython",
    "version": 3
   },
   "file_extension": ".py",
   "mimetype": "text/x-python",
   "name": "python",
   "nbconvert_exporter": "python",
   "pygments_lexer": "ipython3",
   "version": "3.9.16"
  },
  "orig_nbformat": 4
 },
 "nbformat": 4,
 "nbformat_minor": 2
}
